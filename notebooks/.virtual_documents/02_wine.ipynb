import pandas as pd
import seaborn as sns
import matplotlib.pyplot as plt


df = pd.read_csv('../data/red-wine.csv')


df.head()


df.describe()


df.shape


df.info()


# TODO:
#    1. Return a list to get the unique values of quality
#    2. Return the number of times each score is repeated
#    3. Can you plot this?


# 1. Return a list to get the unique values of quality


df['quality'].unique()


# 2. Return the number of times each score is repeated


df['quality'].value_counts()


# 3. Can you plot this?


plt.style.use("ggplot")
df['quality'].value_counts().plot(kind='bar')
plt.xlabel('Quality Scores')
plt.ylabel('Number of scores')


sns.pairplot(df)


sns.pairplot(df, y_vars=['quality'])


sns.pairplot(df, x_vars=['alcohol'], y_vars=['quality'])


from sklearn.model_selection import train_test_split
from sklearn.preprocessing import StandardScaler
from tensorflow import keras
from tensorflow.keras.models import Sequential
from tensorflow.keras.layers import Dense


X = df[df.columns[:-1]]
y = df[df.columns[-1]]


X = df.drop("quality", axis=1)
y = df["quality"]


X_train, X_test, y_train, y_test = train_test_split(X, y, test_size=0.2, random_state=42)


scaler = StandardScaler()
X_train_scaled = scaler.fit_transform(X_train)
X_test_scaled = scaler.transform(X_test)


model = Sequential()
model.add(Dense(64, activation="relu", input_shape=(X_train_scaled.shape[1],)))
model.add(Dense(64, activation="relu"))
model.add(Dense(1, activation="linear"))


model.compile(loss="mean_squared_error", optimizer="adam", metrics=["mean_squared_error"])


history = model.fit(X_train_scaled, y_train, epochs=100, batch_size=32, verbose=0)


plt.plot(history.history['loss'])
plt.title('Model loss')
plt.ylabel('Loss')
plt.xlabel('Epoch')
plt.legend(['Train', 'Test'], loc='upper left')
plt.show()


loss, mse = model.evaluate(X_test_scaled, y_test, verbose=0)
print(f"Mean Squared Error: {mse:.2f}")


print(y_test.shape)
print(model.predict(X_test_scaled).reshape(-1).shape)
pd.concat([pd.DataFrame(y_test).reset_index(drop=True), pd.DataFrame(model.predict(X_test_scaled).reshape(-1)).reset_index(drop=True)], axis=1, ignore_index=True)



